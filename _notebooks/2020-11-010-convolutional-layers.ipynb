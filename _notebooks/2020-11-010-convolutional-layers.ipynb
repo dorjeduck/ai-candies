{
 "metadata": {
  "language_info": {
   "codemirror_mode": {
    "name": "ipython",
    "version": 3
   },
   "file_extension": ".py",
   "mimetype": "text/x-python",
   "name": "python",
   "nbconvert_exporter": "python",
   "pygments_lexer": "ipython3",
   "version": 3
  },
  "orig_nbformat": 2
 },
 "nbformat": 4,
 "nbformat_minor": 2,
 "cells": [
  {
   "source": [
    "# Convolutional Layers"
   ],
   "cell_type": "markdown",
   "metadata": {}
  },
  {
   "source": [
    "> Compassion is a verb.\n",
    ">\n",
    "> – Thich Nhat Hanh\n",
    "\n",
    "Today we will have a first look convolutional layers. Convolutional Neural Networks were first introduced in the 1980s by Yann LeCun and have been at the heart of most image related AI development ever since. \n",
    "\n",
    "While the latest research might change this\n",
    "\n",
    "[An Image is Worth 16x16 Words: Transformers for Image Recognition at Scale](https://openreview.net/forum?id=YicbFdNTTy) \n",
    "\n",
    "I am sure the power of convolutions will remain a powerful techinque for any AI image wizards for quite some time.\n",
    "\n",
    "A nice concise introduction of convolutional layers can be found on this excellent pyimagesearch blog by *Adrian Rosebrock*:\n",
    "\n",
    "https://www.pyimagesearch.com/2018/12/31/keras-conv2d-and-convolutional-layers/\n",
    "\n",
    "We - as usual - just play around with this technique a bit ...\n",
    "\n"
   ],
   "cell_type": "markdown",
   "metadata": {}
  },
  {
   "cell_type": "code",
   "execution_count": null,
   "metadata": {},
   "outputs": [],
   "source": []
  }
 ]
}